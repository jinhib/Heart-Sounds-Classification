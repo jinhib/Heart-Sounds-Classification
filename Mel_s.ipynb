{
 "cells": [
  {
   "cell_type": "code",
   "execution_count": 1,
   "metadata": {},
   "outputs": [],
   "source": [
    "import tensorflow as tf\n",
    "import librosa \n",
    "import librosa.display \n",
    "import numpy as np \n",
    "import matplotlib.pyplot as plt"
   ]
  },
  {
   "cell_type": "code",
   "execution_count": 2,
   "metadata": {},
   "outputs": [],
   "source": [
    "frame_length = 0.025 \n",
    "frame_stride = 0.010\n",
    "\n",
    "def Mel_S(wav_file, _fname): \n",
    "    # mel-spectrogram \n",
    "    y, sr = librosa.load(wav_file, sr=16000)\n",
    "  \n",
    "    # wav_length = len(y)/sr\n",
    "    input_nfft = int(round(sr*frame_length))\n",
    "    input_stride = int(round(sr*frame_stride))\n",
    "    \n",
    "    S = librosa.feature.melspectrogram(y=y, n_mels=40, n_fft=input_nfft, hop_length=input_stride)\n",
    "\n",
    "    print(\"Wav length: {}, Mel_S shape:{}\".format(len(y)/sr,np.shape(S)))\n",
    "    f_index = _fname.index(\".\")\n",
    "    _fname = _fname[0:f_index]\n",
    "    plt.figure(figsize=(10, 4)) \n",
    "    librosa.display.specshow(librosa.power_to_db(S, ref=np.max), sr=sr)\n",
    "    plt.tight_layout() \n",
    "    #plt.savefig(\"F:\\\\heartsound\\\\heart_sounds_with_x_axis\\\\\"+_fname+'.png')\n",
    "    plt.show()\n",
    "    print(min(x_axis))\n",
    "    return S\n",
    "\n"
   ]
  },
  {
   "cell_type": "code",
   "execution_count": null,
   "metadata": {},
   "outputs": [],
   "source": []
  }
 ],
 "metadata": {
  "kernelspec": {
   "display_name": "Python 3",
   "language": "python",
   "name": "python3"
  },
  "language_info": {
   "codemirror_mode": {
    "name": "ipython",
    "version": 3
   },
   "file_extension": ".py",
   "mimetype": "text/x-python",
   "name": "python",
   "nbconvert_exporter": "python",
   "pygments_lexer": "ipython3",
   "version": "3.6.5"
  }
 },
 "nbformat": 4,
 "nbformat_minor": 2
}
