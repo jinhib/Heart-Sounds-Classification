{
 "cells": [
  {
   "cell_type": "code",
   "execution_count": 1,
   "metadata": {},
   "outputs": [
    {
     "name": "stderr",
     "output_type": "stream",
     "text": [
      "C:\\Users\\WBH\\Anaconda3\\lib\\site-packages\\h5py\\__init__.py:36: FutureWarning: Conversion of the second argument of issubdtype from `float` to `np.floating` is deprecated. In future, it will be treated as `np.float64 == np.dtype(float).type`.\n",
      "  from ._conv import register_converters as _register_converters\n",
      "Using TensorFlow backend.\n"
     ]
    }
   ],
   "source": [
    "import numpy as np\n",
    "import os\n",
    "from keras.preprocessing.image import ImageDataGenerator\n",
    "from keras.applications import VGG16\n",
    "from keras import models, layers, optimizers\n",
    "from keras.models import Model\n",
    "from keras import backend as K\n",
    "import pandas as pd\n",
    "\n",
    "from keras.layers.convolutional import Conv2D, MaxPooling2D"
   ]
  },
  {
   "cell_type": "code",
   "execution_count": 2,
   "metadata": {},
   "outputs": [
    {
     "name": "stdout",
     "output_type": "stream",
     "text": [
      "Found 500 images belonging to 2 classes.\n",
      "Found 88 images belonging to 2 classes.\n"
     ]
    }
   ],
   "source": [
    "base_dir = 'E:\\\\Heartsound_VGG16\\\\Heartsound_VGG16_datasets'\n",
    "\n",
    "train_dir = os.path.join(base_dir, 'train')\n",
    "test_dir = os.path.join(base_dir, 'test')\n",
    "\n",
    "train_datagen = ImageDataGenerator(\n",
    "    rescale=1./255, \n",
    "    rotation_range=20, \n",
    "    width_shift_range=0.1, \n",
    "    height_shift_range=0.1, \n",
    "    shear_range=0.1, \n",
    "    zoom_range=0.1, \n",
    "    horizontal_flip=True, \n",
    "    fill_mode='nearest')\n",
    "train_generator = train_datagen.flow_from_directory(train_dir, target_size=(150, 150), batch_size=10, class_mode='categorical')\n",
    "\n",
    "test_datagen = ImageDataGenerator(rescale=1./255)\n",
    "test_generator = test_datagen.flow_from_directory(test_dir, target_size=(150, 150), batch_size=10, class_mode='categorical')"
   ]
  },
  {
   "cell_type": "code",
   "execution_count": 3,
   "metadata": {
    "scrolled": true
   },
   "outputs": [
    {
     "name": "stdout",
     "output_type": "stream",
     "text": [
      "_________________________________________________________________\n",
      "Layer (type)                 Output Shape              Param #   \n",
      "=================================================================\n",
      "input_1 (InputLayer)         (None, 150, 150, 3)       0         \n",
      "_________________________________________________________________\n",
      "block1_conv1 (Conv2D)        (None, 150, 150, 64)      1792      \n",
      "_________________________________________________________________\n",
      "block1_conv2 (Conv2D)        (None, 150, 150, 64)      36928     \n",
      "_________________________________________________________________\n",
      "block1_pool (MaxPooling2D)   (None, 75, 75, 64)        0         \n",
      "_________________________________________________________________\n",
      "block2_conv1 (Conv2D)        (None, 75, 75, 128)       73856     \n",
      "_________________________________________________________________\n",
      "block2_conv2 (Conv2D)        (None, 75, 75, 128)       147584    \n",
      "_________________________________________________________________\n",
      "block2_pool (MaxPooling2D)   (None, 37, 37, 128)       0         \n",
      "_________________________________________________________________\n",
      "block3_conv1 (Conv2D)        (None, 37, 37, 256)       295168    \n",
      "_________________________________________________________________\n",
      "block3_conv2 (Conv2D)        (None, 37, 37, 256)       590080    \n",
      "_________________________________________________________________\n",
      "block3_conv3 (Conv2D)        (None, 37, 37, 256)       590080    \n",
      "_________________________________________________________________\n",
      "block3_pool (MaxPooling2D)   (None, 18, 18, 256)       0         \n",
      "_________________________________________________________________\n",
      "block4_conv1 (Conv2D)        (None, 18, 18, 512)       1180160   \n",
      "_________________________________________________________________\n",
      "block4_conv2 (Conv2D)        (None, 18, 18, 512)       2359808   \n",
      "_________________________________________________________________\n",
      "block4_conv3 (Conv2D)        (None, 18, 18, 512)       2359808   \n",
      "_________________________________________________________________\n",
      "block4_pool (MaxPooling2D)   (None, 9, 9, 512)         0         \n",
      "_________________________________________________________________\n",
      "block5_conv1 (Conv2D)        (None, 9, 9, 512)         2359808   \n",
      "_________________________________________________________________\n",
      "block5_conv2 (Conv2D)        (None, 9, 9, 512)         2359808   \n",
      "_________________________________________________________________\n",
      "block5_conv3 (Conv2D)        (None, 9, 9, 512)         2359808   \n",
      "_________________________________________________________________\n",
      "block5_pool (MaxPooling2D)   (None, 4, 4, 512)         0         \n",
      "=================================================================\n",
      "Total params: 14,714,688\n",
      "Trainable params: 14,714,688\n",
      "Non-trainable params: 0\n",
      "_________________________________________________________________\n",
      "None\n"
     ]
    }
   ],
   "source": [
    "conv_base = VGG16(weights='imagenet', include_top=False,\n",
    "                  input_shape=(150, 150, 3))\n",
    "\n",
    "print(conv_base.summary())"
   ]
  },
  {
   "cell_type": "code",
   "execution_count": 4,
   "metadata": {},
   "outputs": [],
   "source": [
    "conv_base.trainable = True\n",
    "\n",
    "set_trainable = False\n",
    "for layer in conv_base.layers:\n",
    "    if layer.name == 'block5_conv1':\n",
    "        set_trainable = True\n",
    "    if set_trainable:\n",
    "        layer.trainable = True\n",
    "    else:\n",
    "        layer.trainable = False"
   ]
  },
  {
   "cell_type": "code",
   "execution_count": null,
   "metadata": {},
   "outputs": [
    {
     "name": "stdout",
     "output_type": "stream",
     "text": [
      "_________________________________________________________________\n",
      "Layer (type)                 Output Shape              Param #   \n",
      "=================================================================\n",
      "vgg16 (Model)                (None, 4, 4, 512)         14714688  \n",
      "_________________________________________________________________\n",
      "max_pooling2d_43 (MaxPooling (None, 2, 2, 512)         0         \n",
      "_________________________________________________________________\n",
      "max_pooling2d_44 (MaxPooling (None, 1, 1, 512)         0         \n",
      "_________________________________________________________________\n",
      "flatten (Flatten)            (None, 512)               0         \n",
      "=================================================================\n",
      "Total params: 14,714,688\n",
      "Trainable params: 7,079,424\n",
      "Non-trainable params: 7,635,264\n",
      "_________________________________________________________________\n",
      "None\n",
      "Epoch 1/50\n",
      "10/10 [==============================] - 7s 676ms/step - loss: 0.2675 - acc: 0.9500\n",
      "Epoch 2/50\n",
      "10/10 [==============================] - 5s 545ms/step - loss: 0.0369 - acc: 0.9900\n",
      "Epoch 3/50\n",
      "10/10 [==============================] - 5s 545ms/step - loss: 0.0019 - acc: 1.0000\n",
      "Epoch 4/50\n",
      "10/10 [==============================] - 6s 570ms/step - loss: 0.0017 - acc: 1.0000\n",
      "Epoch 5/50\n",
      "10/10 [==============================] - 6s 559ms/step - loss: 0.0280 - acc: 0.9800\n",
      "Epoch 6/50\n",
      "10/10 [==============================] - 6s 588ms/step - loss: 0.0022 - acc: 1.0000\n",
      "Epoch 7/50\n",
      "10/10 [==============================] - 6s 569ms/step - loss: 0.1024 - acc: 0.9700\n",
      "Epoch 8/50\n",
      "10/10 [==============================] - 6s 560ms/step - loss: 0.2152 - acc: 0.9700\n",
      "Epoch 9/50\n",
      "10/10 [==============================] - 5s 545ms/step - loss: 0.0972 - acc: 0.9800\n",
      "Epoch 10/50\n",
      "10/10 [==============================] - 6s 559ms/step - loss: 0.0052 - acc: 1.0000\n",
      "Epoch 11/50\n",
      "10/10 [==============================] - 6s 590ms/step - loss: 0.0433 - acc: 0.9900\n",
      "Epoch 12/50\n",
      "10/10 [==============================] - 5s 544ms/step - loss: 0.0644 - acc: 0.9900\n",
      "Epoch 13/50\n",
      "10/10 [==============================] - 6s 573ms/step - loss: 0.0307 - acc: 0.9800\n",
      "Epoch 14/50\n",
      "10/10 [==============================] - 6s 573ms/step - loss: 0.0531 - acc: 0.9900\n",
      "Epoch 15/50\n",
      "10/10 [==============================] - 6s 560ms/step - loss: 0.0016 - acc: 1.0000\n",
      "Epoch 16/50\n",
      "10/10 [==============================] - 5s 543ms/step - loss: 4.6517e-04 - acc: 1.0000\n",
      "Epoch 17/50\n",
      "10/10 [==============================] - 6s 577ms/step - loss: 0.0013 - acc: 1.0000\n",
      "Epoch 18/50\n",
      "10/10 [==============================] - 6s 563ms/step - loss: 1.6617e-05 - acc: 1.0000\n",
      "Epoch 19/50\n",
      "10/10 [==============================] - 6s 558ms/step - loss: 6.9219e-05 - acc: 1.0000\n",
      "Epoch 20/50\n",
      "10/10 [==============================] - 5s 535ms/step - loss: 0.0824 - acc: 0.9900\n",
      "Epoch 21/50\n",
      "10/10 [==============================] - 6s 562ms/step - loss: 0.0858 - acc: 0.9800\n",
      "Epoch 22/50\n",
      "10/10 [==============================] - 5s 527ms/step - loss: 2.4320e-04 - acc: 1.0000\n",
      "Epoch 23/50\n",
      "10/10 [==============================] - 6s 578ms/step - loss: 0.0213 - acc: 0.9900\n",
      "Epoch 24/50\n",
      "10/10 [==============================] - 6s 572ms/step - loss: 1.4060e-04 - acc: 1.0000\n",
      "Epoch 25/50\n",
      "10/10 [==============================] - 6s 551ms/step - loss: 0.0494 - acc: 0.9800\n",
      "Epoch 26/50\n",
      "10/10 [==============================] - 6s 577ms/step - loss: 3.8993e-04 - acc: 1.0000\n",
      "Epoch 27/50\n",
      "10/10 [==============================] - 5s 544ms/step - loss: 2.0214e-04 - acc: 1.0000\n",
      "Epoch 28/50\n",
      "10/10 [==============================] - 6s 563ms/step - loss: 0.0369 - acc: 0.9700\n",
      "Epoch 29/50\n",
      "10/10 [==============================] - 6s 582ms/step - loss: 0.0016 - acc: 1.0000\n",
      "Epoch 30/50\n",
      "10/10 [==============================] - 6s 571ms/step - loss: 0.0012 - acc: 1.0000\n",
      "Epoch 31/50\n",
      "10/10 [==============================] - 6s 580ms/step - loss: 0.2467 - acc: 0.9600\n",
      "Epoch 32/50\n",
      "10/10 [==============================] - 6s 569ms/step - loss: 4.2313e-05 - acc: 1.0000\n",
      "Epoch 33/50\n",
      "10/10 [==============================] - 6s 592ms/step - loss: 1.2527e-04 - acc: 1.0000\n",
      "Epoch 34/50\n",
      "10/10 [==============================] - 5s 543ms/step - loss: 6.8260e-05 - acc: 1.0000\n",
      "Epoch 35/50\n",
      " 2/10 [=====>........................] - ETA: 4s - loss: 1.1921e-07 - acc: 1.0000"
     ]
    }
   ],
   "source": [
    "model = models.Sequential()\n",
    "model.add(conv_base)\n",
    "model.add(MaxPooling2D(pool_size=(2, 2)))\n",
    "model.add(MaxPooling2D(pool_size=(2, 2)))\n",
    "model.add(layers.Flatten(name='flatten'))\n",
    "print(model.summary())\n",
    "model.add(layers.Dense(256, activation='relu'))\n",
    "model.add(layers.Dense(2, activation='softmax'))\n",
    "\n",
    "model.compile(optimizer=optimizers.RMSprop(lr=0.0001), loss='categorical_crossentropy', metrics=['accuracy'])\n",
    "model.fit_generator(train_generator, steps_per_epoch=10, epochs=50)"
   ]
  },
  {
   "cell_type": "code",
   "execution_count": 54,
   "metadata": {},
   "outputs": [
    {
     "name": "stdout",
     "output_type": "stream",
     "text": [
      "0.7959183588319895\n",
      "79.59\n"
     ]
    }
   ],
   "source": [
    "test_loss, test_acc = model.evaluate_generator(test_generator, steps=10)\n",
    "print(test_acc)\n",
    "acc = round(test_acc * 100, 2)\n",
    "print(acc)\n",
    "\n",
    "y_pred = model.predict_generator(test_generator, steps=10)"
   ]
  },
  {
   "cell_type": "code",
   "execution_count": 31,
   "metadata": {},
   "outputs": [],
   "source": [
    "model.save('E:\\\\Heartsound_VGG16\\\\Heartsound_VGG16_model_save\\\\Heartsound_VGG16_model_' + str(acc) +'.h5')"
   ]
  },
  {
   "cell_type": "code",
   "execution_count": null,
   "metadata": {},
   "outputs": [],
   "source": []
  }
 ],
 "metadata": {
  "kernelspec": {
   "display_name": "Python 3",
   "language": "python",
   "name": "python3"
  },
  "language_info": {
   "codemirror_mode": {
    "name": "ipython",
    "version": 3
   },
   "file_extension": ".py",
   "mimetype": "text/x-python",
   "name": "python",
   "nbconvert_exporter": "python",
   "pygments_lexer": "ipython3",
   "version": "3.5.5"
  }
 },
 "nbformat": 4,
 "nbformat_minor": 2
}
