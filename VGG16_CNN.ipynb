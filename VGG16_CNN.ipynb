{
 "cells": [
  {
   "cell_type": "code",
   "execution_count": 1,
   "metadata": {},
   "outputs": [
    {
     "name": "stderr",
     "output_type": "stream",
     "text": [
      "Using TensorFlow backend.\n",
      "WARNING: Logging before flag parsing goes to stderr.\n",
      "W0919 16:52:31.502038  9500 deprecation_wrapper.py:119] From C:\\Users\\Gachon\\Anaconda3\\lib\\site-packages\\keras\\backend\\tensorflow_backend.py:74: The name tf.get_default_graph is deprecated. Please use tf.compat.v1.get_default_graph instead.\n",
      "\n",
      "W0919 16:52:31.514119  9500 deprecation_wrapper.py:119] From C:\\Users\\Gachon\\Anaconda3\\lib\\site-packages\\keras\\backend\\tensorflow_backend.py:517: The name tf.placeholder is deprecated. Please use tf.compat.v1.placeholder instead.\n",
      "\n",
      "W0919 16:52:31.517063  9500 deprecation_wrapper.py:119] From C:\\Users\\Gachon\\Anaconda3\\lib\\site-packages\\keras\\backend\\tensorflow_backend.py:4138: The name tf.random_uniform is deprecated. Please use tf.random.uniform instead.\n",
      "\n",
      "W0919 16:52:31.533073  9500 deprecation_wrapper.py:119] From C:\\Users\\Gachon\\Anaconda3\\lib\\site-packages\\keras\\backend\\tensorflow_backend.py:3976: The name tf.nn.max_pool is deprecated. Please use tf.nn.max_pool2d instead.\n",
      "\n",
      "W0919 16:52:31.774375  9500 deprecation_wrapper.py:119] From C:\\Users\\Gachon\\Anaconda3\\lib\\site-packages\\keras\\backend\\tensorflow_backend.py:174: The name tf.get_default_session is deprecated. Please use tf.compat.v1.get_default_session instead.\n",
      "\n",
      "W0919 16:52:31.774375  9500 deprecation_wrapper.py:119] From C:\\Users\\Gachon\\Anaconda3\\lib\\site-packages\\keras\\backend\\tensorflow_backend.py:181: The name tf.ConfigProto is deprecated. Please use tf.compat.v1.ConfigProto instead.\n",
      "\n"
     ]
    }
   ],
   "source": [
    "from keras.applications import VGG16\n",
    "import os\n",
    "import numpy as np\n",
    "from keras.preprocessing.image import ImageDataGenerator\n",
    "\n",
    "conv_base = VGG16(weights='imagenet',\n",
    "                  include_top=False,\n",
    "                  input_shape=(150, 150, 3))"
   ]
  },
  {
   "cell_type": "code",
   "execution_count": 2,
   "metadata": {},
   "outputs": [
    {
     "name": "stdout",
     "output_type": "stream",
     "text": [
      "Found 500 images belonging to 2 classes.\n",
      "Found 88 images belonging to 2 classes.\n"
     ]
    }
   ],
   "source": [
    "base_dir = 'F:\\\\datasets'\n",
    "\n",
    "train_dir = os.path.join(base_dir, 'train')\n",
    "test_dir = os.path.join(base_dir, 'test')\n",
    "\n",
    "datagen = ImageDataGenerator(rescale=1./255)\n",
    "batch_size = 20\n",
    "\n",
    "def extract_features(directory, sample_count):\n",
    "    features = np.zeros(shape=(sample_count, 4, 4, 512))\n",
    "    labels = np.zeros(shape=(sample_count))\n",
    "    generator = datagen.flow_from_directory(\n",
    "        directory,\n",
    "        target_size=(150, 150),\n",
    "        batch_size=batch_size,\n",
    "        class_mode='binary')\n",
    "    i = 0\n",
    "    for inputs_batch, labels_batch in generator:\n",
    "        features_batch = conv_base.predict(inputs_batch)\n",
    "        features[i * batch_size : (i+1) * batch_size] = features_batch\n",
    "        labels[i * batch_size : (i+1) * batch_size] = labels_batch\n",
    "        i += 1\n",
    "        if i * batch_size >= sample_count:\n",
    "            # 제너레이터는 루프 안에서 무한하게 데이터를 만들어내므로 모든 이미지를 한 번씩 처리하고 나면 중지합니다\n",
    "            break\n",
    "    return features, labels\n",
    "\n",
    "train_features, train_labels = extract_features(train_dir, 500)\n",
    "test_features, test_labels = extract_features(test_dir, 88)"
   ]
  },
  {
   "cell_type": "code",
   "execution_count": 3,
   "metadata": {},
   "outputs": [],
   "source": [
    "train_features = np.reshape(train_features, (500, 4 * 4 * 512))\n",
    "test_features = np.reshape(test_features, (88, 4 * 4 * 512))"
   ]
  },
  {
   "cell_type": "code",
   "execution_count": 4,
   "metadata": {
    "scrolled": true
   },
   "outputs": [
    {
     "name": "stderr",
     "output_type": "stream",
     "text": [
      "W0919 16:53:46.918633  9500 deprecation.py:506] From C:\\Users\\Gachon\\Anaconda3\\lib\\site-packages\\keras\\backend\\tensorflow_backend.py:3445: calling dropout (from tensorflow.python.ops.nn_ops) with keep_prob is deprecated and will be removed in a future version.\n",
      "Instructions for updating:\n",
      "Please use `rate` instead of `keep_prob`. Rate should be set to `rate = 1 - keep_prob`.\n",
      "W0919 16:53:46.941631  9500 deprecation_wrapper.py:119] From C:\\Users\\Gachon\\Anaconda3\\lib\\site-packages\\keras\\optimizers.py:790: The name tf.train.Optimizer is deprecated. Please use tf.compat.v1.train.Optimizer instead.\n",
      "\n",
      "W0919 16:53:46.946622  9500 deprecation.py:323] From C:\\Users\\Gachon\\Anaconda3\\lib\\site-packages\\tensorflow\\python\\ops\\nn_impl.py:180: add_dispatch_support.<locals>.wrapper (from tensorflow.python.ops.array_ops) is deprecated and will be removed in a future version.\n",
      "Instructions for updating:\n",
      "Use tf.where in 2.0, which has the same broadcast rule as np.where\n"
     ]
    },
    {
     "name": "stdout",
     "output_type": "stream",
     "text": [
      "Epoch 1/50\n",
      "500/500 [==============================] - 1s 2ms/step - loss: 0.7307 - acc: 0.5260\n",
      "Epoch 2/50\n",
      "500/500 [==============================] - 1s 1ms/step - loss: 0.6734 - acc: 0.5940\n",
      "Epoch 3/50\n",
      "500/500 [==============================] - 1s 1ms/step - loss: 0.6485 - acc: 0.6220\n",
      "Epoch 4/50\n",
      "500/500 [==============================] - 1s 1ms/step - loss: 0.5919 - acc: 0.6840\n",
      "Epoch 5/50\n",
      "500/500 [==============================] - 1s 1ms/step - loss: 0.5837 - acc: 0.6680\n",
      "Epoch 6/50\n",
      "500/500 [==============================] - 1s 1ms/step - loss: 0.5473 - acc: 0.7080\n",
      "Epoch 7/50\n",
      "500/500 [==============================] - 1s 1ms/step - loss: 0.5394 - acc: 0.7200\n",
      "Epoch 8/50\n",
      "500/500 [==============================] - 1s 1ms/step - loss: 0.5121 - acc: 0.7400\n",
      "Epoch 9/50\n",
      "500/500 [==============================] - 1s 1ms/step - loss: 0.4948 - acc: 0.7560\n",
      "Epoch 10/50\n",
      "500/500 [==============================] - 1s 1ms/step - loss: 0.4943 - acc: 0.7380\n",
      "Epoch 11/50\n",
      "500/500 [==============================] - 1s 1ms/step - loss: 0.4630 - acc: 0.7960\n",
      "Epoch 12/50\n",
      "500/500 [==============================] - 1s 1ms/step - loss: 0.4715 - acc: 0.7840\n",
      "Epoch 13/50\n",
      "500/500 [==============================] - 1s 1ms/step - loss: 0.4553 - acc: 0.8000\n",
      "Epoch 14/50\n",
      "500/500 [==============================] - 1s 1ms/step - loss: 0.4440 - acc: 0.8100\n",
      "Epoch 15/50\n",
      "500/500 [==============================] - 1s 1ms/step - loss: 0.4411 - acc: 0.7900\n",
      "Epoch 16/50\n",
      "500/500 [==============================] - 1s 1ms/step - loss: 0.4393 - acc: 0.8120\n",
      "Epoch 17/50\n",
      "500/500 [==============================] - 1s 1ms/step - loss: 0.4176 - acc: 0.8180\n",
      "Epoch 18/50\n",
      "500/500 [==============================] - 1s 1ms/step - loss: 0.4198 - acc: 0.8140\n",
      "Epoch 19/50\n",
      "500/500 [==============================] - 1s 1ms/step - loss: 0.4060 - acc: 0.8140\n",
      "Epoch 20/50\n",
      "500/500 [==============================] - 1s 1ms/step - loss: 0.3925 - acc: 0.8380\n",
      "Epoch 21/50\n",
      "500/500 [==============================] - 1s 1ms/step - loss: 0.3882 - acc: 0.8420\n",
      "Epoch 22/50\n",
      "500/500 [==============================] - 1s 1ms/step - loss: 0.3979 - acc: 0.8420\n",
      "Epoch 23/50\n",
      "500/500 [==============================] - 1s 1ms/step - loss: 0.3681 - acc: 0.8420\n",
      "Epoch 24/50\n",
      "500/500 [==============================] - 1s 1ms/step - loss: 0.3654 - acc: 0.8540\n",
      "Epoch 25/50\n",
      "500/500 [==============================] - 1s 1ms/step - loss: 0.3627 - acc: 0.8580\n",
      "Epoch 26/50\n",
      "500/500 [==============================] - 1s 1ms/step - loss: 0.3611 - acc: 0.8640\n",
      "Epoch 27/50\n",
      "500/500 [==============================] - 1s 1ms/step - loss: 0.3491 - acc: 0.8600\n",
      "Epoch 28/50\n",
      "500/500 [==============================] - 1s 1ms/step - loss: 0.3416 - acc: 0.8620\n",
      "Epoch 29/50\n",
      "500/500 [==============================] - 1s 1ms/step - loss: 0.3405 - acc: 0.8720\n",
      "Epoch 30/50\n",
      "500/500 [==============================] - 1s 1ms/step - loss: 0.3382 - acc: 0.8600\n",
      "Epoch 31/50\n",
      "500/500 [==============================] - 1s 1ms/step - loss: 0.3304 - acc: 0.8760\n",
      "Epoch 32/50\n",
      "500/500 [==============================] - 1s 1ms/step - loss: 0.3243 - acc: 0.8840\n",
      "Epoch 33/50\n",
      "500/500 [==============================] - 1s 1ms/step - loss: 0.3164 - acc: 0.8820\n",
      "Epoch 34/50\n",
      "500/500 [==============================] - 1s 1ms/step - loss: 0.3137 - acc: 0.8920\n",
      "Epoch 35/50\n",
      "500/500 [==============================] - 1s 1ms/step - loss: 0.3033 - acc: 0.8960\n",
      "Epoch 36/50\n",
      "500/500 [==============================] - 1s 1ms/step - loss: 0.2999 - acc: 0.8900\n",
      "Epoch 37/50\n",
      "500/500 [==============================] - 1s 1ms/step - loss: 0.2974 - acc: 0.9000\n",
      "Epoch 38/50\n",
      "500/500 [==============================] - 1s 1ms/step - loss: 0.2939 - acc: 0.8920\n",
      "Epoch 39/50\n",
      "500/500 [==============================] - 1s 1ms/step - loss: 0.2974 - acc: 0.8920\n",
      "Epoch 40/50\n",
      "500/500 [==============================] - 1s 1ms/step - loss: 0.2994 - acc: 0.9020\n",
      "Epoch 41/50\n",
      "500/500 [==============================] - 1s 1ms/step - loss: 0.2938 - acc: 0.8960\n",
      "Epoch 42/50\n",
      "500/500 [==============================] - 1s 1ms/step - loss: 0.2821 - acc: 0.9020\n",
      "Epoch 43/50\n",
      "500/500 [==============================] - 1s 1ms/step - loss: 0.2746 - acc: 0.9120\n",
      "Epoch 44/50\n",
      "500/500 [==============================] - 1s 1ms/step - loss: 0.2688 - acc: 0.9200\n",
      "Epoch 45/50\n",
      "500/500 [==============================] - 1s 1ms/step - loss: 0.2775 - acc: 0.8980\n",
      "Epoch 46/50\n",
      "500/500 [==============================] - 1s 1ms/step - loss: 0.2708 - acc: 0.8940\n",
      "Epoch 47/50\n",
      "500/500 [==============================] - 1s 1ms/step - loss: 0.2648 - acc: 0.9060\n",
      "Epoch 48/50\n",
      "500/500 [==============================] - 1s 1ms/step - loss: 0.2650 - acc: 0.9100\n",
      "Epoch 49/50\n",
      "500/500 [==============================] - 1s 1ms/step - loss: 0.2534 - acc: 0.9140\n",
      "Epoch 50/50\n",
      "500/500 [==============================] - 1s 1ms/step - loss: 0.2591 - acc: 0.9280\n"
     ]
    }
   ],
   "source": [
    "from keras import models\n",
    "from keras import layers\n",
    "from keras import optimizers\n",
    "\n",
    "model = models.Sequential()\n",
    "model.add(layers.Dense(256, activation='relu', input_dim=4 * 4 * 512))\n",
    "model.add(layers.Dropout(0.5))\n",
    "model.add(layers.Dense(1, activation='sigmoid'))\n",
    "\n",
    "model.compile(optimizer=optimizers.RMSprop(lr=2e-5),\n",
    "              loss='binary_crossentropy',\n",
    "              metrics=['acc'])\n",
    "\n",
    "history = model.fit(train_features, train_labels,\n",
    "                    epochs=50,\n",
    "                    batch_size=20)\n",
    "\n"
   ]
  },
  {
   "cell_type": "markdown",
   "metadata": {},
   "source": []
  },
  {
   "cell_type": "code",
   "execution_count": 6,
   "metadata": {},
   "outputs": [
    {
     "data": {
      "image/png": "[encoded data removed]",
      "text/plain": [
       "<Figure size 432x288 with 1 Axes>"
      ]
     },
     "metadata": {
      "needs_background": "light"
     },
     "output_type": "display_data"
    },
    {
     "data": {
      "image/png": "[encoded data removed]",
      "text/plain": [
       "<Figure size 432x288 with 1 Axes>"
      ]
     },
     "metadata": {
      "needs_background": "light"
     },
     "output_type": "display_data"
    }
   ],
   "source": [
    "\n",
    "import matplotlib.pyplot as plt\n",
    "\n",
    "acc = history.history['acc']\n",
    "loss = history.history['loss']\n",
    "\n",
    "epochs = range(len(acc))\n",
    "\n",
    "plt.plot(epochs, acc, 'bo', label='Training acc')\n",
    "plt.title('Training and validation accuracy')\n",
    "plt.legend()\n",
    "\n",
    "plt.figure()\n",
    "\n",
    "plt.plot(epochs, loss, 'bo', label='Training loss')\n",
    "plt.title('Training and validation loss')\n",
    "plt.legend()\n",
    "\n",
    "plt.show()"
   ]
  },
  {
   "cell_type": "code",
   "execution_count": 7,
   "metadata": {},
   "outputs": [],
   "source": [
    "from keras import models\n",
    "from keras import layers\n",
    "\n",
    "model = models.Sequential()\n",
    "model.add(conv_base)\n",
    "model.add(layers.Flatten())\n",
    "model.add(layers.Dense(256, activation='relu'))\n",
    "model.add(layers.Dense(1, activation='sigmoid'))"
   ]
  },
  {
   "cell_type": "code",
   "execution_count": 8,
   "metadata": {},
   "outputs": [
    {
     "name": "stdout",
     "output_type": "stream",
     "text": [
      "_________________________________________________________________\n",
      "Layer (type)                 Output Shape              Param #   \n",
      "=================================================================\n",
      "vgg16 (Model)                (None, 4, 4, 512)         14714688  \n",
      "_________________________________________________________________\n",
      "flatten_1 (Flatten)          (None, 8192)              0         \n",
      "_________________________________________________________________\n",
      "dense_3 (Dense)              (None, 256)               2097408   \n",
      "_________________________________________________________________\n",
      "dense_4 (Dense)              (None, 1)                 257       \n",
      "=================================================================\n",
      "Total params: 16,812,353\n",
      "Trainable params: 16,812,353\n",
      "Non-trainable params: 0\n",
      "_________________________________________________________________\n"
     ]
    }
   ],
   "source": [
    "model.summary()"
   ]
  },
  {
   "cell_type": "code",
   "execution_count": 9,
   "metadata": {},
   "outputs": [
    {
     "name": "stdout",
     "output_type": "stream",
     "text": [
      "conv_base를 동결하기 전 훈련되는 가중치의 수: 30\n"
     ]
    }
   ],
   "source": [
    "print('conv_base를 동결하기 전 훈련되는 가중치의 수:', \n",
    "      len(model.trainable_weights))"
   ]
  },
  {
   "cell_type": "code",
   "execution_count": 10,
   "metadata": {},
   "outputs": [],
   "source": [
    "conv_base.trainable = False"
   ]
  },
  {
   "cell_type": "code",
   "execution_count": 11,
   "metadata": {},
   "outputs": [
    {
     "name": "stdout",
     "output_type": "stream",
     "text": [
      "conv_base를 동결한 후 훈련되는 가중치의 수: 4\n"
     ]
    }
   ],
   "source": [
    "print('conv_base를 동결한 후 훈련되는 가중치의 수:', \n",
    "      len(model.trainable_weights))"
   ]
  },
  {
   "cell_type": "code",
   "execution_count": 12,
   "metadata": {
    "scrolled": true
   },
   "outputs": [
    {
     "name": "stdout",
     "output_type": "stream",
     "text": [
      "Found 500 images belonging to 2 classes.\n",
      "Epoch 1/10\n",
      " - 224s - loss: 0.6222 - acc: 0.6635\n",
      "Epoch 2/10\n",
      " - 224s - loss: 0.5400 - acc: 0.7300\n",
      "Epoch 3/10\n",
      " - 224s - loss: 0.5041 - acc: 0.7555\n",
      "Epoch 4/10\n",
      " - 226s - loss: 0.4812 - acc: 0.7740\n",
      "Epoch 5/10\n",
      " - 225s - loss: 0.4562 - acc: 0.7850\n",
      "Epoch 6/10\n",
      " - 225s - loss: 0.4361 - acc: 0.7990\n",
      "Epoch 7/10\n",
      " - 223s - loss: 0.4170 - acc: 0.8170\n",
      "Epoch 8/10\n",
      " - 222s - loss: 0.4075 - acc: 0.8175\n",
      "Epoch 9/10\n",
      " - 222s - loss: 0.3942 - acc: 0.8240\n",
      "Epoch 10/10\n",
      " - 221s - loss: 0.3912 - acc: 0.8350\n"
     ]
    }
   ],
   "source": [
    "from keras.preprocessing.image import ImageDataGenerator\n",
    "\n",
    "train_datagen = ImageDataGenerator(\n",
    "      rescale=1./255,\n",
    "      rotation_range=20,\n",
    "      width_shift_range=0.1,\n",
    "      height_shift_range=0.1,\n",
    "      shear_range=0.1,\n",
    "      zoom_range=0.1,\n",
    "      horizontal_flip=True,\n",
    "      fill_mode='nearest')\n",
    "\n",
    "# 검증 데이터는 증식되어서는 안 됩니다!\n",
    "test_datagen = ImageDataGenerator(rescale=1./255)\n",
    "\n",
    "train_generator = train_datagen.flow_from_directory(\n",
    "        # 타깃 디렉터리\n",
    "        train_dir,\n",
    "        # 모든 이미지의 크기를 150 × 150로 변경합니다\n",
    "        target_size=(150, 150),\n",
    "        batch_size=20,\n",
    "        # binary_crossentropy 손실을 사용하므로 이진 레이블이 필요합니다\n",
    "        class_mode='binary')\n",
    "\n",
    "model.compile(loss='binary_crossentropy',\n",
    "              optimizer=optimizers.RMSprop(lr=2e-5),\n",
    "              metrics=['acc'])\n",
    "\n",
    "history = model.fit_generator(\n",
    "      train_generator,\n",
    "      steps_per_epoch=100,\n",
    "      epochs=10,\n",
    "      verbose=2)"
   ]
  },
  {
   "cell_type": "code",
   "execution_count": 13,
   "metadata": {},
   "outputs": [],
   "source": [
    "model.save('heartsound.h5')"
   ]
  },
  {
   "cell_type": "code",
   "execution_count": null,
   "metadata": {},
   "outputs": [],
   "source": []
  },
  {
   "cell_type": "code",
   "execution_count": 14,
   "metadata": {},
   "outputs": [
    {
     "name": "stdout",
     "output_type": "stream",
     "text": [
      "_________________________________________________________________\n",
      "Layer (type)                 Output Shape              Param #   \n",
      "=================================================================\n",
      "input_1 (InputLayer)         (None, 150, 150, 3)       0         \n",
      "_________________________________________________________________\n",
      "block1_conv1 (Conv2D)        (None, 150, 150, 64)      1792      \n",
      "_________________________________________________________________\n",
      "block1_conv2 (Conv2D)        (None, 150, 150, 64)      36928     \n",
      "_________________________________________________________________\n",
      "block1_pool (MaxPooling2D)   (None, 75, 75, 64)        0         \n",
      "_________________________________________________________________\n",
      "block2_conv1 (Conv2D)        (None, 75, 75, 128)       73856     \n",
      "_________________________________________________________________\n",
      "block2_conv2 (Conv2D)        (None, 75, 75, 128)       147584    \n",
      "_________________________________________________________________\n",
      "block2_pool (MaxPooling2D)   (None, 37, 37, 128)       0         \n",
      "_________________________________________________________________\n",
      "block3_conv1 (Conv2D)        (None, 37, 37, 256)       295168    \n",
      "_________________________________________________________________\n",
      "block3_conv2 (Conv2D)        (None, 37, 37, 256)       590080    \n",
      "_________________________________________________________________\n",
      "block3_conv3 (Conv2D)        (None, 37, 37, 256)       590080    \n",
      "_________________________________________________________________\n",
      "block3_pool (MaxPooling2D)   (None, 18, 18, 256)       0         \n",
      "_________________________________________________________________\n",
      "block4_conv1 (Conv2D)        (None, 18, 18, 512)       1180160   \n",
      "_________________________________________________________________\n",
      "block4_conv2 (Conv2D)        (None, 18, 18, 512)       2359808   \n",
      "_________________________________________________________________\n",
      "block4_conv3 (Conv2D)        (None, 18, 18, 512)       2359808   \n",
      "_________________________________________________________________\n",
      "block4_pool (MaxPooling2D)   (None, 9, 9, 512)         0         \n",
      "_________________________________________________________________\n",
      "block5_conv1 (Conv2D)        (None, 9, 9, 512)         2359808   \n",
      "_________________________________________________________________\n",
      "block5_conv2 (Conv2D)        (None, 9, 9, 512)         2359808   \n",
      "_________________________________________________________________\n",
      "block5_conv3 (Conv2D)        (None, 9, 9, 512)         2359808   \n",
      "_________________________________________________________________\n",
      "block5_pool (MaxPooling2D)   (None, 4, 4, 512)         0         \n",
      "=================================================================\n",
      "Total params: 14,714,688\n",
      "Trainable params: 0\n",
      "Non-trainable params: 14,714,688\n",
      "_________________________________________________________________\n"
     ]
    }
   ],
   "source": [
    "conv_base.summary()"
   ]
  },
  {
   "cell_type": "code",
   "execution_count": 15,
   "metadata": {},
   "outputs": [],
   "source": [
    "conv_base.trainable = True\n",
    "\n",
    "set_trainable = False\n",
    "for layer in conv_base.layers:\n",
    "    if layer.name == 'block5_conv1':\n",
    "        set_trainable = True\n",
    "    if set_trainable:\n",
    "        layer.trainable = True\n",
    "    else:\n",
    "        layer.trainable = False"
   ]
  },
  {
   "cell_type": "code",
   "execution_count": 18,
   "metadata": {},
   "outputs": [
    {
     "name": "stdout",
     "output_type": "stream",
     "text": [
      "Epoch 1/100\n",
      "100/100 [==============================] - 269s 3s/step - loss: 0.3473 - acc: 0.8470\n",
      "Epoch 2/100\n",
      "100/100 [==============================] - 267s 3s/step - loss: 0.2705 - acc: 0.8845\n",
      "Epoch 3/100\n",
      "100/100 [==============================] - 266s 3s/step - loss: 0.2369 - acc: 0.8995\n",
      "Epoch 4/100\n",
      "100/100 [==============================] - 265s 3s/step - loss: 0.2099 - acc: 0.9125\n",
      "Epoch 5/100\n",
      "100/100 [==============================] - 265s 3s/step - loss: 0.1763 - acc: 0.9240\n",
      "Epoch 6/100\n",
      "100/100 [==============================] - 265s 3s/step - loss: 0.1530 - acc: 0.9355\n",
      "Epoch 7/100\n",
      "100/100 [==============================] - 265s 3s/step - loss: 0.1360 - acc: 0.9450\n",
      "Epoch 8/100\n",
      "100/100 [==============================] - 265s 3s/step - loss: 0.1189 - acc: 0.9540\n",
      "Epoch 9/100\n",
      "100/100 [==============================] - 265s 3s/step - loss: 0.1106 - acc: 0.9525\n",
      "Epoch 10/100\n",
      "100/100 [==============================] - 265s 3s/step - loss: 0.1029 - acc: 0.9590\n",
      "Epoch 11/100\n",
      "100/100 [==============================] - 265s 3s/step - loss: 0.0803 - acc: 0.9720\n",
      "Epoch 12/100\n",
      "100/100 [==============================] - 264s 3s/step - loss: 0.0776 - acc: 0.9685\n",
      "Epoch 13/100\n",
      "100/100 [==============================] - 264s 3s/step - loss: 0.0710 - acc: 0.9750\n",
      "Epoch 14/100\n",
      "100/100 [==============================] - 264s 3s/step - loss: 0.0703 - acc: 0.9750\n",
      "Epoch 15/100\n",
      "100/100 [==============================] - 264s 3s/step - loss: 0.0614 - acc: 0.9755\n",
      "Epoch 16/100\n",
      "100/100 [==============================] - 264s 3s/step - loss: 0.0570 - acc: 0.9820\n",
      "Epoch 17/100\n",
      "100/100 [==============================] - 264s 3s/step - loss: 0.0452 - acc: 0.9840\n",
      "Epoch 18/100\n",
      "100/100 [==============================] - 265s 3s/step - loss: 0.0380 - acc: 0.9895\n",
      "Epoch 19/100\n",
      "100/100 [==============================] - 265s 3s/step - loss: 0.0405 - acc: 0.9865\n",
      "Epoch 20/100\n",
      "100/100 [==============================] - 264s 3s/step - loss: 0.0343 - acc: 0.9865\n",
      "Epoch 21/100\n",
      "100/100 [==============================] - 264s 3s/step - loss: 0.0306 - acc: 0.9890\n",
      "Epoch 22/100\n",
      "100/100 [==============================] - 265s 3s/step - loss: 0.0311 - acc: 0.9895\n",
      "Epoch 23/100\n",
      "100/100 [==============================] - 265s 3s/step - loss: 0.0316 - acc: 0.9885\n",
      "Epoch 24/100\n",
      "100/100 [==============================] - 264s 3s/step - loss: 0.0230 - acc: 0.9915\n",
      "Epoch 25/100\n",
      "100/100 [==============================] - 264s 3s/step - loss: 0.0246 - acc: 0.9920\n",
      "Epoch 26/100\n",
      "100/100 [==============================] - 264s 3s/step - loss: 0.0220 - acc: 0.9930\n",
      "Epoch 27/100\n",
      "100/100 [==============================] - 264s 3s/step - loss: 0.0239 - acc: 0.9940\n",
      "Epoch 28/100\n",
      "100/100 [==============================] - 3585s 36s/step - loss: 0.0187 - acc: 0.9925\n",
      "Epoch 29/100\n",
      "100/100 [==============================] - 264s 3s/step - loss: 0.0323 - acc: 0.9860\n",
      "Epoch 30/100\n",
      "100/100 [==============================] - 264s 3s/step - loss: 0.0163 - acc: 0.9945\n",
      "Epoch 31/100\n",
      "100/100 [==============================] - 264s 3s/step - loss: 0.0119 - acc: 0.9965\n",
      "Epoch 32/100\n",
      "100/100 [==============================] - 264s 3s/step - loss: 0.0168 - acc: 0.9930\n",
      "Epoch 33/100\n",
      "100/100 [==============================] - 264s 3s/step - loss: 0.0157 - acc: 0.9935\n",
      "Epoch 34/100\n",
      "100/100 [==============================] - 264s 3s/step - loss: 0.0114 - acc: 0.9960\n",
      "Epoch 35/100\n",
      "100/100 [==============================] - 264s 3s/step - loss: 0.0214 - acc: 0.9925\n",
      "Epoch 36/100\n",
      "100/100 [==============================] - 264s 3s/step - loss: 0.0148 - acc: 0.9940\n",
      "Epoch 37/100\n",
      "100/100 [==============================] - 264s 3s/step - loss: 0.0088 - acc: 0.9975\n",
      "Epoch 38/100\n",
      "100/100 [==============================] - 264s 3s/step - loss: 0.0138 - acc: 0.9950\n",
      "Epoch 39/100\n",
      "100/100 [==============================] - 265s 3s/step - loss: 0.0066 - acc: 0.9980\n",
      "Epoch 40/100\n",
      "100/100 [==============================] - 264s 3s/step - loss: 0.0124 - acc: 0.9950\n",
      "Epoch 41/100\n",
      "100/100 [==============================] - 264s 3s/step - loss: 0.0083 - acc: 0.9965\n",
      "Epoch 42/100\n",
      "100/100 [==============================] - 264s 3s/step - loss: 0.0113 - acc: 0.9955\n",
      "Epoch 43/100\n",
      "100/100 [==============================] - 264s 3s/step - loss: 0.0044 - acc: 0.9995\n",
      "Epoch 44/100\n",
      "100/100 [==============================] - 264s 3s/step - loss: 0.0117 - acc: 0.9960\n",
      "Epoch 45/100\n",
      "100/100 [==============================] - 264s 3s/step - loss: 0.0097 - acc: 0.9960\n",
      "Epoch 46/100\n",
      "100/100 [==============================] - 264s 3s/step - loss: 0.0112 - acc: 0.9965\n",
      "Epoch 47/100\n",
      "100/100 [==============================] - 264s 3s/step - loss: 0.0106 - acc: 0.9955\n",
      "Epoch 48/100\n",
      "100/100 [==============================] - 1725s 17s/step - loss: 0.0059 - acc: 0.9980\n",
      "Epoch 49/100\n",
      "100/100 [==============================] - 383s 4s/step - loss: 0.0086 - acc: 0.9975\n",
      "Epoch 50/100\n",
      "100/100 [==============================] - 264s 3s/step - loss: 0.0032 - acc: 0.9995\n",
      "Epoch 51/100\n",
      "100/100 [==============================] - 264s 3s/step - loss: 0.0071 - acc: 0.9965\n",
      "Epoch 52/100\n",
      "100/100 [==============================] - 264s 3s/step - loss: 0.0079 - acc: 0.9970\n",
      "Epoch 53/100\n",
      "100/100 [==============================] - 264s 3s/step - loss: 0.0057 - acc: 0.9990\n",
      "Epoch 54/100\n",
      "100/100 [==============================] - 264s 3s/step - loss: 0.0059 - acc: 0.9985\n",
      "Epoch 55/100\n",
      "100/100 [==============================] - 264s 3s/step - loss: 0.0043 - acc: 0.9985\n",
      "Epoch 56/100\n",
      "100/100 [==============================] - 264s 3s/step - loss: 0.0057 - acc: 0.9980\n",
      "Epoch 57/100\n",
      "100/100 [==============================] - 264s 3s/step - loss: 0.0070 - acc: 0.9970\n",
      "Epoch 58/100\n",
      "100/100 [==============================] - 264s 3s/step - loss: 0.0016 - acc: 1.0000\n",
      "Epoch 59/100\n",
      "100/100 [==============================] - 264s 3s/step - loss: 0.0063 - acc: 0.9975\n",
      "Epoch 60/100\n",
      "100/100 [==============================] - 264s 3s/step - loss: 0.0038 - acc: 0.9985\n",
      "Epoch 61/100\n",
      "100/100 [==============================] - 264s 3s/step - loss: 0.0082 - acc: 0.9970\n",
      "Epoch 62/100\n",
      "100/100 [==============================] - 264s 3s/step - loss: 0.0034 - acc: 0.9985\n",
      "Epoch 63/100\n",
      "100/100 [==============================] - 264s 3s/step - loss: 0.0054 - acc: 0.9985\n",
      "Epoch 64/100\n",
      "100/100 [==============================] - 264s 3s/step - loss: 0.0094 - acc: 0.9975\n",
      "Epoch 65/100\n",
      "100/100 [==============================] - 264s 3s/step - loss: 0.0042 - acc: 0.9980\n",
      "Epoch 66/100\n",
      "100/100 [==============================] - 264s 3s/step - loss: 0.0031 - acc: 0.9990\n",
      "Epoch 67/100\n",
      "100/100 [==============================] - 264s 3s/step - loss: 0.0049 - acc: 0.9990\n",
      "Epoch 68/100\n",
      "100/100 [==============================] - 263s 3s/step - loss: 0.0016 - acc: 0.9995\n",
      "Epoch 69/100\n",
      "100/100 [==============================] - 264s 3s/step - loss: 0.0027 - acc: 0.9990\n",
      "Epoch 70/100\n",
      "100/100 [==============================] - 264s 3s/step - loss: 0.0065 - acc: 0.9970\n",
      "Epoch 71/100\n",
      "100/100 [==============================] - 263s 3s/step - loss: 0.0027 - acc: 0.9995\n",
      "Epoch 72/100\n",
      "100/100 [==============================] - 263s 3s/step - loss: 0.0044 - acc: 0.9975\n",
      "Epoch 73/100\n",
      "100/100 [==============================] - 263s 3s/step - loss: 0.0034 - acc: 0.9990\n",
      "Epoch 74/100\n",
      "100/100 [==============================] - 264s 3s/step - loss: 0.0065 - acc: 0.9980\n",
      "Epoch 75/100\n",
      "100/100 [==============================] - 264s 3s/step - loss: 0.0031 - acc: 0.9990\n",
      "Epoch 76/100\n",
      "100/100 [==============================] - 264s 3s/step - loss: 7.7834e-04 - acc: 1.0000\n",
      "Epoch 77/100\n",
      "100/100 [==============================] - 386s 4s/step - loss: 0.0114 - acc: 0.9980\n",
      "Epoch 78/100\n",
      "100/100 [==============================] - 264s 3s/step - loss: 0.0100 - acc: 0.9970\n",
      "Epoch 79/100\n",
      "100/100 [==============================] - 263s 3s/step - loss: 0.0017 - acc: 0.9995\n",
      "Epoch 80/100\n",
      "100/100 [==============================] - 263s 3s/step - loss: 0.0059 - acc: 0.9975\n",
      "Epoch 81/100\n",
      "100/100 [==============================] - 263s 3s/step - loss: 0.0017 - acc: 0.9995\n",
      "Epoch 82/100\n",
      "100/100 [==============================] - 263s 3s/step - loss: 0.0027 - acc: 0.9995\n",
      "Epoch 83/100\n",
      "100/100 [==============================] - 263s 3s/step - loss: 0.0018 - acc: 0.9995\n",
      "Epoch 84/100\n"
     ]
    },
    {
     "name": "stdout",
     "output_type": "stream",
     "text": [
      "100/100 [==============================] - 263s 3s/step - loss: 0.0040 - acc: 0.9990\n",
      "Epoch 85/100\n",
      "100/100 [==============================] - 263s 3s/step - loss: 0.0037 - acc: 0.9990\n",
      "Epoch 86/100\n",
      "100/100 [==============================] - 263s 3s/step - loss: 0.0051 - acc: 0.9980\n",
      "Epoch 87/100\n",
      "100/100 [==============================] - 263s 3s/step - loss: 0.0020 - acc: 0.9990\n",
      "Epoch 88/100\n",
      "100/100 [==============================] - 263s 3s/step - loss: 0.0066 - acc: 0.9980\n",
      "Epoch 89/100\n",
      "100/100 [==============================] - 263s 3s/step - loss: 0.0015 - acc: 0.9995\n",
      "Epoch 90/100\n",
      "100/100 [==============================] - 263s 3s/step - loss: 0.0050 - acc: 0.9980\n",
      "Epoch 91/100\n",
      "100/100 [==============================] - 263s 3s/step - loss: 0.0045 - acc: 0.9980\n",
      "Epoch 92/100\n",
      "100/100 [==============================] - 263s 3s/step - loss: 0.0045 - acc: 0.9980\n",
      "Epoch 93/100\n",
      "100/100 [==============================] - 263s 3s/step - loss: 7.9464e-04 - acc: 0.9995\n",
      "Epoch 94/100\n",
      "100/100 [==============================] - 263s 3s/step - loss: 0.0027 - acc: 0.9990\n",
      "Epoch 95/100\n",
      "100/100 [==============================] - 263s 3s/step - loss: 5.8483e-04 - acc: 1.0000\n",
      "Epoch 96/100\n",
      "100/100 [==============================] - 263s 3s/step - loss: 0.0042 - acc: 0.9975\n",
      "Epoch 97/100\n",
      "100/100 [==============================] - 263s 3s/step - loss: 0.0075 - acc: 0.9975\n",
      "Epoch 98/100\n",
      "100/100 [==============================] - 263s 3s/step - loss: 0.0029 - acc: 0.9990\n",
      "Epoch 99/100\n",
      "100/100 [==============================] - 263s 3s/step - loss: 0.0024 - acc: 0.9990\n",
      "Epoch 100/100\n",
      "100/100 [==============================] - 263s 3s/step - loss: 0.0025 - acc: 0.9995\n"
     ]
    }
   ],
   "source": [
    "model.compile(loss='binary_crossentropy',\n",
    "              optimizer=optimizers.RMSprop(lr=1e-5),\n",
    "              metrics=['acc'])\n",
    "\n",
    "history = model.fit_generator(\n",
    "      train_generator,\n",
    "      steps_per_epoch=100,\n",
    "      epochs=100)"
   ]
  },
  {
   "cell_type": "code",
   "execution_count": 19,
   "metadata": {},
   "outputs": [],
   "source": [
    "model.save('heartsound2.h5')"
   ]
  },
  {
   "cell_type": "code",
   "execution_count": 20,
   "metadata": {},
   "outputs": [
    {
     "name": "stdout",
     "output_type": "stream",
     "text": [
      "Found 88 images belonging to 2 classes.\n",
      "test acc: 0.7954545446417548\n"
     ]
    }
   ],
   "source": [
    "test_generator = test_datagen.flow_from_directory(\n",
    "        test_dir,\n",
    "        target_size=(150, 150),\n",
    "        batch_size=20,\n",
    "        class_mode='binary')\n",
    "\n",
    "test_loss, test_acc = model.evaluate_generator(test_generator, steps=50)\n",
    "print('test acc:', test_acc)"
   ]
  },
  {
   "cell_type": "code",
   "execution_count": null,
   "metadata": {},
   "outputs": [],
   "source": []
  }
 ],
 "metadata": {
  "kernelspec": {
   "display_name": "Python 3",
   "language": "python",
   "name": "python3"
  },
  "language_info": {
   "codemirror_mode": {
    "name": "ipython",
    "version": 3
   },
   "file_extension": ".py",
   "mimetype": "text/x-python",
   "name": "python",
   "nbconvert_exporter": "python",
   "pygments_lexer": "ipython3",
   "version": "3.6.5"
  }
 },
 "nbformat": 4,
 "nbformat_minor": 2
}
